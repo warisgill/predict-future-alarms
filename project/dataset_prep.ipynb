{
 "metadata": {
  "language_info": {
   "codemirror_mode": {
    "name": "ipython",
    "version": 3
   },
   "file_extension": ".py",
   "mimetype": "text/x-python",
   "name": "python",
   "nbconvert_exporter": "python",
   "pygments_lexer": "ipython3",
   "version": "3.8.5-final"
  },
  "orig_nbformat": 2,
  "kernelspec": {
   "name": "python3",
   "display_name": "Python 3.8.5 64-bit ('dl': conda)",
   "metadata": {
    "interpreter": {
     "hash": "8076afad8c2f739e22f417bad77704dbad7b0389c4d6903b1ae4a1b7479f7ed3"
    }
   }
  }
 },
 "nbformat": 4,
 "nbformat_minor": 2,
 "cells": [
  {
   "cell_type": "code",
   "execution_count": 1,
   "metadata": {},
   "outputs": [],
   "source": [
    "from datetime import timedelta\n",
    "import time\n",
    "import numpy as np\n",
    "from functools import partial\n",
    "from sklearn.model_selection import train_test_split\n",
    "import itertools\n",
    "import pickle\n",
    "import pandas as pd"
   ]
  },
  {
   "cell_type": "code",
   "execution_count": 2,
   "metadata": {},
   "outputs": [],
   "source": [
    "def filterAlarmData(df, months=None, sources_filter=[], monmentarly_filter=None, staling_filter=None ,ingore_communication_alarms=False, min_alarms_per_source=10):\n",
    "\n",
    "    print(f\">>Preprocessing... \\n   Months to include={months}\\n  Ignore Sources={sources_filter}\\n  Ingnore Momentarlily Alarms Filter={monmentarly_filter}seconds \\n   Ignoreing Staling Alarms Filter={staling_filter} seconds, \\n Ignore Communication Alarms = {ingore_communication_alarms} \\n Remove sources whose count is less than {min_alarms_per_source}\")\n",
    "    \n",
    "    \n",
    "    if months is None:\n",
    "        months = df[\"Year-Month\"].unique()\n",
    "\n",
    "    if monmentarly_filter is not None: \n",
    "        df = df[(df[\"TimeDelta\"] > monmentarly_filter)]\n",
    "\n",
    "    if staling_filter is not None:\n",
    "        df =  df[(df[\"TimeDelta\"] < staling_filter)]\n",
    "\n",
    "    if ingore_communication_alarms==True:\n",
    "        df = df[~df[\"Condition\"].isin([\"IOP\", \"IOP-\"])]\n",
    "    \n",
    "    df =  df[(df[\"Year-Month\"].isin(months))]\n",
    "    df = df[(~df[\"SourceName\"].isin(sources_filter))]\n",
    "\n",
    "    source2count = dict(df[\"SourceName\"].value_counts())\n",
    "    select_sources = [k for k, v in source2count.items() if v >= min_alarms_per_source]\n",
    "    df = df[df[\"SourceName\"].isin(select_sources)]\n",
    "\n",
    "    return df\n",
    "\n",
    "def _concatenateSourceNameAndCondition(sname, condition):\n",
    "    return sname+\"-\"+condition\n",
    "\n",
    "\n",
    "def updatSourceNamewithCondition(df):\n",
    "    df[\"SourceName\"] = df[[\"SourceName\", \"Condition\"]].apply(\n",
    "        lambda arg: _concatenateSourceNameAndCondition(*arg), axis=1)\n",
    "    return df\n",
    "\n",
    "def convertSourceNamesToAlias(df):\n",
    "    alias2name = {f\"A{k}\": v for k, v in enumerate(df[\"SourceName\"].unique())}\n",
    "    name2alias = {v: k for k, v in alias2name.items()}\n",
    "    df[\"SourceName\"] = df[\"SourceName\"].apply(lambda sname: name2alias[sname])\n",
    "    return name2alias, alias2name\n",
    "\n",
    "def __removeChatteringAlarmsHelper(alarms, chattering_timedelta_threshold=60.0, chattering_count_threshold=2):\n",
    "    \"\"\"Find the chatterings in an alarms list from the same source.  \n",
    "    \"\"\"\n",
    "\n",
    "    alarms_without_chattering = []\n",
    "    alarms = [alarm for alarm in sorted(alarms, key=lambda arg: arg[\"StartTime\"], reverse=False)]\n",
    "    i = 0\n",
    "    j = 0\n",
    "\n",
    "    while i < (len(alarms)):\n",
    "        alarms_without_chattering.append(alarms[i])\n",
    "        prev_start = alarms[i][\"StartTime\"]\n",
    "        prev_end = alarms[i][\"EndTime\"]\n",
    "        count_alarms = 0\n",
    "        j = i + 1\n",
    "        while j < len(alarms):\n",
    "            next_start = alarms[j][\"StartTime\"]\n",
    "            next_end = alarms[j][\"EndTime\"]\n",
    "\n",
    "            # this assert is very important: the prev alarm has to turn off before the start of\n",
    "            # the next one\n",
    "            assert(prev_start <= next_start)\n",
    "            assert(prev_end <= next_start)\n",
    "            assert(prev_end <= next_end)\n",
    "\n",
    "            delta = timedelta.total_seconds(next_start - prev_start)\n",
    "            assert (delta >= 0)\n",
    "            \n",
    "            if delta > chattering_timedelta_threshold:\n",
    "                break\n",
    "            count_alarms += 1\n",
    "            \n",
    "            j += 1\n",
    "        \n",
    "        if count_alarms >= chattering_count_threshold:\n",
    "            i = j\n",
    "        else:\n",
    "            i += 1\n",
    "\n",
    "    return alarms_without_chattering\n",
    "\n",
    "def removeChatteringAlarms(df,chattering_timedelta_threshold=120):\n",
    "    alarms_without_chatterings = []\n",
    "    for sname in df[\"SourceName\"].unique():\n",
    "        df_source = df.loc[df['SourceName'].isin([sname])]\n",
    "\n",
    "        for condition in df_source[\"Condition\"].unique():\n",
    "            df_condition = df_source.loc[df_source['Condition'].isin([condition])]\n",
    "            alarms = __removeChatteringAlarmsHelper(df_condition.to_dict(orient=\"records\"),chattering_timedelta_threshold=chattering_timedelta_threshold)\n",
    "            alarms_without_chatterings = alarms_without_chatterings + alarms\n",
    "\n",
    "    return pd.DataFrame(alarms_without_chatterings)\n",
    "\n",
    "def loadAlarmsData(file_path):\n",
    "    df = pd.read_csv(file_path, low_memory=False, usecols=[\"SourceName\", \"Condition\", \"StartTime\",\"EndTime\",\"TimeDelta\",\"Year-Month\"],parse_dates=[\"StartTime\", \"EndTime\"])\n",
    "    return df\n",
    "\n",
    "def getDFWithCommonSourcesInAllMonths(df):\n",
    "    each_month_source_names = [[sname for sname in df[df[\"Year-Month\"]==month][\"SourceName\"].unique()] for month in df[\"Year-Month\"].unique()]\n",
    "    common_sourcenames_in_all_months = set.intersection(*[set(l) for l in each_month_source_names])\n",
    "    df = df[df[\"SourceName\"].isin(common_sourcenames_in_all_months)]\n",
    "    return df\n",
    "\n",
    "def getSequenceOfWholeData(df,seq_duration_gap,filter_short_seq):\n",
    "    print(f\">> Duration to next seq: {seq_duration_gap}, ignore seq len: {filter_short_seq}\")\n",
    "\n",
    "    list_of_sequences = []    \n",
    "    alarms= df.to_dict(orient=\"records\")\n",
    "    alarms = [alarm for alarm in sorted(alarms, key=lambda arg: arg[\"StartTime\"], reverse=False)] # sorting\n",
    "    i =0\n",
    "    j= 0\n",
    "\n",
    "    max_seq_len = -1\n",
    "    while i <len(alarms):\n",
    "        prev_start = alarms[i][\"StartTime\"]\n",
    "        seq = []\n",
    "        seq.append(alarms[i])\n",
    "        j = i+1\n",
    "        while j < len(alarms):    \n",
    "            next_start = alarms[j][\"StartTime\"]\n",
    "            delta = timedelta.total_seconds(next_start - prev_start)\n",
    "            # print(delta)\n",
    "            assert delta >= 0\n",
    "            if delta >= seq_duration_gap:\n",
    "                break\n",
    "\n",
    "            seq.append(alarms[j])\n",
    "            j += 1\n",
    "        i = j\n",
    "\n",
    "        if len(seq) > max_seq_len:\n",
    "            max_seq_len = len(seq)\n",
    "        \n",
    "        if len(seq)>=filter_short_seq:\n",
    "            seq = [alarm for alarm in sorted(seq, key=lambda arg: arg[\"StartTime\"], reverse=False)]\n",
    "            seq = [alarm[\"SourceName\"] for alarm in seq]\n",
    "            list_of_sequences.append(seq)\n",
    "    \n",
    "    \n",
    "    return list_of_sequences, max_seq_len\n"
   ]
  },
  {
   "cell_type": "code",
   "execution_count": 3,
   "metadata": {},
   "outputs": [
    {
     "output_type": "stream",
     "name": "stdout",
     "text": [
      "Total Time to load the data  95.24953818321228\n"
     ]
    },
    {
     "output_type": "execute_result",
     "data": {
      "text/plain": [
       "                 SourceName Condition           StartTime             EndTime  \\\n",
       "0            48TIC2026-VEL-      VEL- 2020-03-01 00:00:03 2020-03-01 00:00:05   \n",
       "1            48TIC2026-VEL-      VEL- 2020-03-01 00:00:07 2020-03-01 00:00:08   \n",
       "2            48TIC2026-VEL-      VEL- 2020-03-01 00:00:10 2020-03-01 00:00:11   \n",
       "3            48TIC2026-VEL-      VEL- 2020-03-01 00:00:18 2020-03-01 00:00:20   \n",
       "4            48TIC2026-VEL-      VEL- 2020-03-01 00:00:22 2020-03-01 00:00:23   \n",
       "...                     ...       ...                 ...                 ...   \n",
       "12541434      47PI1517B-LLL       LLL 2020-01-09 02:54:19 2020-01-09 02:58:34   \n",
       "12541435        47PI2018-LO        LO 2020-01-31 15:15:28 2020-01-31 15:52:16   \n",
       "12541436        47FI2030-HI        HI 2020-01-24 15:22:23 2020-01-24 15:25:16   \n",
       "12541437  47XL3503B-ANN-ALM       ALM 2020-01-29 09:18:04 2020-01-29 09:19:29   \n",
       "12541438        47TI1538-LO        LO 2020-01-09 03:03:37 2020-01-09 03:17:07   \n",
       "\n",
       "          TimeDelta Year-Month  \n",
       "0               2.0  (2020, 3)  \n",
       "1               1.0  (2020, 3)  \n",
       "2               1.0  (2020, 3)  \n",
       "3               2.0  (2020, 3)  \n",
       "4               1.0  (2020, 3)  \n",
       "...             ...        ...  \n",
       "12541434      255.0  (2020, 1)  \n",
       "12541435     2208.0  (2020, 1)  \n",
       "12541436      173.0  (2020, 1)  \n",
       "12541437       85.0  (2020, 1)  \n",
       "12541438      810.0  (2020, 1)  \n",
       "\n",
       "[12541439 rows x 6 columns]"
      ],
      "text/html": "<div>\n<style scoped>\n    .dataframe tbody tr th:only-of-type {\n        vertical-align: middle;\n    }\n\n    .dataframe tbody tr th {\n        vertical-align: top;\n    }\n\n    .dataframe thead th {\n        text-align: right;\n    }\n</style>\n<table border=\"1\" class=\"dataframe\">\n  <thead>\n    <tr style=\"text-align: right;\">\n      <th></th>\n      <th>SourceName</th>\n      <th>Condition</th>\n      <th>StartTime</th>\n      <th>EndTime</th>\n      <th>TimeDelta</th>\n      <th>Year-Month</th>\n    </tr>\n  </thead>\n  <tbody>\n    <tr>\n      <th>0</th>\n      <td>48TIC2026-VEL-</td>\n      <td>VEL-</td>\n      <td>2020-03-01 00:00:03</td>\n      <td>2020-03-01 00:00:05</td>\n      <td>2.0</td>\n      <td>(2020, 3)</td>\n    </tr>\n    <tr>\n      <th>1</th>\n      <td>48TIC2026-VEL-</td>\n      <td>VEL-</td>\n      <td>2020-03-01 00:00:07</td>\n      <td>2020-03-01 00:00:08</td>\n      <td>1.0</td>\n      <td>(2020, 3)</td>\n    </tr>\n    <tr>\n      <th>2</th>\n      <td>48TIC2026-VEL-</td>\n      <td>VEL-</td>\n      <td>2020-03-01 00:00:10</td>\n      <td>2020-03-01 00:00:11</td>\n      <td>1.0</td>\n      <td>(2020, 3)</td>\n    </tr>\n    <tr>\n      <th>3</th>\n      <td>48TIC2026-VEL-</td>\n      <td>VEL-</td>\n      <td>2020-03-01 00:00:18</td>\n      <td>2020-03-01 00:00:20</td>\n      <td>2.0</td>\n      <td>(2020, 3)</td>\n    </tr>\n    <tr>\n      <th>4</th>\n      <td>48TIC2026-VEL-</td>\n      <td>VEL-</td>\n      <td>2020-03-01 00:00:22</td>\n      <td>2020-03-01 00:00:23</td>\n      <td>1.0</td>\n      <td>(2020, 3)</td>\n    </tr>\n    <tr>\n      <th>...</th>\n      <td>...</td>\n      <td>...</td>\n      <td>...</td>\n      <td>...</td>\n      <td>...</td>\n      <td>...</td>\n    </tr>\n    <tr>\n      <th>12541434</th>\n      <td>47PI1517B-LLL</td>\n      <td>LLL</td>\n      <td>2020-01-09 02:54:19</td>\n      <td>2020-01-09 02:58:34</td>\n      <td>255.0</td>\n      <td>(2020, 1)</td>\n    </tr>\n    <tr>\n      <th>12541435</th>\n      <td>47PI2018-LO</td>\n      <td>LO</td>\n      <td>2020-01-31 15:15:28</td>\n      <td>2020-01-31 15:52:16</td>\n      <td>2208.0</td>\n      <td>(2020, 1)</td>\n    </tr>\n    <tr>\n      <th>12541436</th>\n      <td>47FI2030-HI</td>\n      <td>HI</td>\n      <td>2020-01-24 15:22:23</td>\n      <td>2020-01-24 15:25:16</td>\n      <td>173.0</td>\n      <td>(2020, 1)</td>\n    </tr>\n    <tr>\n      <th>12541437</th>\n      <td>47XL3503B-ANN-ALM</td>\n      <td>ALM</td>\n      <td>2020-01-29 09:18:04</td>\n      <td>2020-01-29 09:19:29</td>\n      <td>85.0</td>\n      <td>(2020, 1)</td>\n    </tr>\n    <tr>\n      <th>12541438</th>\n      <td>47TI1538-LO</td>\n      <td>LO</td>\n      <td>2020-01-09 03:03:37</td>\n      <td>2020-01-09 03:17:07</td>\n      <td>810.0</td>\n      <td>(2020, 1)</td>\n    </tr>\n  </tbody>\n</table>\n<p>12541439 rows × 6 columns</p>\n</div>"
     },
     "metadata": {},
     "execution_count": 3
    }
   ],
   "source": [
    "\"\"\"  Lodading the Data and Preprocessing \"\"\"\n",
    "start = time.time()\n",
    "\n",
    "df_main_alarms =loadAlarmsData(file_path=\"/home/waris/Github/predict-future-alarms/.data/final-all-months-alarms.csv\")\n",
    "df_main_alarms = updatSourceNamewithCondition(df_main_alarms)\n",
    "print(\"Total Time to load the data \", time.time()-start)\n",
    "\n",
    "df_main_alarms"
   ]
  },
  {
   "cell_type": "code",
   "execution_count": 20,
   "metadata": {},
   "outputs": [
    {
     "output_type": "execute_result",
     "data": {
      "text/plain": [
       "         SourceName Condition           StartTime             EndTime  \\\n",
       "0                A0      VEL- 2020-03-01 00:00:03 2020-03-01 00:00:05   \n",
       "1                A0      VEL- 2020-03-01 00:00:07 2020-03-01 00:00:08   \n",
       "2                A0      VEL- 2020-03-01 00:00:10 2020-03-01 00:00:11   \n",
       "3                A0      VEL- 2020-03-01 00:00:18 2020-03-01 00:00:20   \n",
       "4                A0      VEL- 2020-03-01 00:00:22 2020-03-01 00:00:23   \n",
       "...             ...       ...                 ...                 ...   \n",
       "12541434      A2260       LLL 2020-01-09 02:54:19 2020-01-09 02:58:34   \n",
       "12541435       A565        LO 2020-01-31 15:15:28 2020-01-31 15:52:16   \n",
       "12541436       A807        HI 2020-01-24 15:22:23 2020-01-24 15:25:16   \n",
       "12541437      A1001       ALM 2020-01-29 09:18:04 2020-01-29 09:19:29   \n",
       "12541438      A1924        LO 2020-01-09 03:03:37 2020-01-09 03:17:07   \n",
       "\n",
       "          TimeDelta Year-Month  \n",
       "0               2.0  (2020, 3)  \n",
       "1               1.0  (2020, 3)  \n",
       "2               1.0  (2020, 3)  \n",
       "3               2.0  (2020, 3)  \n",
       "4               1.0  (2020, 3)  \n",
       "...             ...        ...  \n",
       "12541434      255.0  (2020, 1)  \n",
       "12541435     2208.0  (2020, 1)  \n",
       "12541436      173.0  (2020, 1)  \n",
       "12541437       85.0  (2020, 1)  \n",
       "12541438      810.0  (2020, 1)  \n",
       "\n",
       "[12541439 rows x 6 columns]"
      ],
      "text/html": "<div>\n<style scoped>\n    .dataframe tbody tr th:only-of-type {\n        vertical-align: middle;\n    }\n\n    .dataframe tbody tr th {\n        vertical-align: top;\n    }\n\n    .dataframe thead th {\n        text-align: right;\n    }\n</style>\n<table border=\"1\" class=\"dataframe\">\n  <thead>\n    <tr style=\"text-align: right;\">\n      <th></th>\n      <th>SourceName</th>\n      <th>Condition</th>\n      <th>StartTime</th>\n      <th>EndTime</th>\n      <th>TimeDelta</th>\n      <th>Year-Month</th>\n    </tr>\n  </thead>\n  <tbody>\n    <tr>\n      <th>0</th>\n      <td>A0</td>\n      <td>VEL-</td>\n      <td>2020-03-01 00:00:03</td>\n      <td>2020-03-01 00:00:05</td>\n      <td>2.0</td>\n      <td>(2020, 3)</td>\n    </tr>\n    <tr>\n      <th>1</th>\n      <td>A0</td>\n      <td>VEL-</td>\n      <td>2020-03-01 00:00:07</td>\n      <td>2020-03-01 00:00:08</td>\n      <td>1.0</td>\n      <td>(2020, 3)</td>\n    </tr>\n    <tr>\n      <th>2</th>\n      <td>A0</td>\n      <td>VEL-</td>\n      <td>2020-03-01 00:00:10</td>\n      <td>2020-03-01 00:00:11</td>\n      <td>1.0</td>\n      <td>(2020, 3)</td>\n    </tr>\n    <tr>\n      <th>3</th>\n      <td>A0</td>\n      <td>VEL-</td>\n      <td>2020-03-01 00:00:18</td>\n      <td>2020-03-01 00:00:20</td>\n      <td>2.0</td>\n      <td>(2020, 3)</td>\n    </tr>\n    <tr>\n      <th>4</th>\n      <td>A0</td>\n      <td>VEL-</td>\n      <td>2020-03-01 00:00:22</td>\n      <td>2020-03-01 00:00:23</td>\n      <td>1.0</td>\n      <td>(2020, 3)</td>\n    </tr>\n    <tr>\n      <th>...</th>\n      <td>...</td>\n      <td>...</td>\n      <td>...</td>\n      <td>...</td>\n      <td>...</td>\n      <td>...</td>\n    </tr>\n    <tr>\n      <th>12541434</th>\n      <td>A2260</td>\n      <td>LLL</td>\n      <td>2020-01-09 02:54:19</td>\n      <td>2020-01-09 02:58:34</td>\n      <td>255.0</td>\n      <td>(2020, 1)</td>\n    </tr>\n    <tr>\n      <th>12541435</th>\n      <td>A565</td>\n      <td>LO</td>\n      <td>2020-01-31 15:15:28</td>\n      <td>2020-01-31 15:52:16</td>\n      <td>2208.0</td>\n      <td>(2020, 1)</td>\n    </tr>\n    <tr>\n      <th>12541436</th>\n      <td>A807</td>\n      <td>HI</td>\n      <td>2020-01-24 15:22:23</td>\n      <td>2020-01-24 15:25:16</td>\n      <td>173.0</td>\n      <td>(2020, 1)</td>\n    </tr>\n    <tr>\n      <th>12541437</th>\n      <td>A1001</td>\n      <td>ALM</td>\n      <td>2020-01-29 09:18:04</td>\n      <td>2020-01-29 09:19:29</td>\n      <td>85.0</td>\n      <td>(2020, 1)</td>\n    </tr>\n    <tr>\n      <th>12541438</th>\n      <td>A1924</td>\n      <td>LO</td>\n      <td>2020-01-09 03:03:37</td>\n      <td>2020-01-09 03:17:07</td>\n      <td>810.0</td>\n      <td>(2020, 1)</td>\n    </tr>\n  </tbody>\n</table>\n<p>12541439 rows × 6 columns</p>\n</div>"
     },
     "metadata": {},
     "execution_count": 20
    }
   ],
   "source": [
    "# \"\"\" Chaning name 2 alias for alarm data but skipping it \"\"\"\n",
    "source2Alias, alias2source = convertSourceNamesToAlias(df_main_alarms)\n",
    "df_main_alarms"
   ]
  },
  {
   "cell_type": "code",
   "execution_count": 21,
   "metadata": {},
   "outputs": [],
   "source": [
    "source2count = dict(df_main_alarms[\"SourceName\"].value_counts())\n",
    "# source2count\n"
   ]
  },
  {
   "cell_type": "code",
   "execution_count": 22,
   "metadata": {},
   "outputs": [
    {
     "output_type": "stream",
     "name": "stdout",
     "text": [
      ">>Preprocessing... \n   Months to include=['(2020, 3)' '(2019, 7)' '(2019, 8)' '(2019, 3)' '(2019, 10)' '(2019, 11)'\n '(2019, 9)' '(2020, 2)' '(2019, 5)' '(2019, 6)' '(2019, 12)' '(2019, 4)'\n '(2020, 1)']\n  Ignore Sources=[]\n  Ingnore Momentarlily Alarms Filter=Noneseconds \n   Ignoreing Staling Alarms Filter=None seconds, \n Ignore Communication Alarms = True \n Remove sources whose count is less than 500\n"
     ]
    },
    {
     "output_type": "execute_result",
     "data": {
      "text/plain": [
       "         SourceName Condition           StartTime             EndTime  \\\n",
       "0                A0      VEL- 2020-03-01 00:00:03 2020-03-01 00:00:05   \n",
       "1                A0      VEL- 2020-03-01 00:00:07 2020-03-01 00:00:08   \n",
       "2                A0      VEL- 2020-03-01 00:00:10 2020-03-01 00:00:11   \n",
       "3                A0      VEL- 2020-03-01 00:00:18 2020-03-01 00:00:20   \n",
       "4                A0      VEL- 2020-03-01 00:00:22 2020-03-01 00:00:23   \n",
       "...             ...       ...                 ...                 ...   \n",
       "12541106        A91       LLL 2020-01-31 14:40:33 2020-01-31 14:41:04   \n",
       "12541107        A91       LLL 2020-01-31 14:42:00 2020-01-31 14:42:19   \n",
       "12541108        A91       LLL 2020-01-31 15:08:44 2020-01-31 15:09:07   \n",
       "12541109        A91       LLL 2020-01-31 15:55:10 2020-01-31 15:57:42   \n",
       "12541382        A51       MLO 2020-01-21 00:34:12 2020-01-21 00:38:52   \n",
       "\n",
       "          TimeDelta Year-Month  \n",
       "0               2.0  (2020, 3)  \n",
       "1               1.0  (2020, 3)  \n",
       "2               1.0  (2020, 3)  \n",
       "3               2.0  (2020, 3)  \n",
       "4               1.0  (2020, 3)  \n",
       "...             ...        ...  \n",
       "12541106       31.0  (2020, 1)  \n",
       "12541107       19.0  (2020, 1)  \n",
       "12541108       23.0  (2020, 1)  \n",
       "12541109      152.0  (2020, 1)  \n",
       "12541382      280.0  (2020, 1)  \n",
       "\n",
       "[8575652 rows x 6 columns]"
      ],
      "text/html": "<div>\n<style scoped>\n    .dataframe tbody tr th:only-of-type {\n        vertical-align: middle;\n    }\n\n    .dataframe tbody tr th {\n        vertical-align: top;\n    }\n\n    .dataframe thead th {\n        text-align: right;\n    }\n</style>\n<table border=\"1\" class=\"dataframe\">\n  <thead>\n    <tr style=\"text-align: right;\">\n      <th></th>\n      <th>SourceName</th>\n      <th>Condition</th>\n      <th>StartTime</th>\n      <th>EndTime</th>\n      <th>TimeDelta</th>\n      <th>Year-Month</th>\n    </tr>\n  </thead>\n  <tbody>\n    <tr>\n      <th>0</th>\n      <td>A0</td>\n      <td>VEL-</td>\n      <td>2020-03-01 00:00:03</td>\n      <td>2020-03-01 00:00:05</td>\n      <td>2.0</td>\n      <td>(2020, 3)</td>\n    </tr>\n    <tr>\n      <th>1</th>\n      <td>A0</td>\n      <td>VEL-</td>\n      <td>2020-03-01 00:00:07</td>\n      <td>2020-03-01 00:00:08</td>\n      <td>1.0</td>\n      <td>(2020, 3)</td>\n    </tr>\n    <tr>\n      <th>2</th>\n      <td>A0</td>\n      <td>VEL-</td>\n      <td>2020-03-01 00:00:10</td>\n      <td>2020-03-01 00:00:11</td>\n      <td>1.0</td>\n      <td>(2020, 3)</td>\n    </tr>\n    <tr>\n      <th>3</th>\n      <td>A0</td>\n      <td>VEL-</td>\n      <td>2020-03-01 00:00:18</td>\n      <td>2020-03-01 00:00:20</td>\n      <td>2.0</td>\n      <td>(2020, 3)</td>\n    </tr>\n    <tr>\n      <th>4</th>\n      <td>A0</td>\n      <td>VEL-</td>\n      <td>2020-03-01 00:00:22</td>\n      <td>2020-03-01 00:00:23</td>\n      <td>1.0</td>\n      <td>(2020, 3)</td>\n    </tr>\n    <tr>\n      <th>...</th>\n      <td>...</td>\n      <td>...</td>\n      <td>...</td>\n      <td>...</td>\n      <td>...</td>\n      <td>...</td>\n    </tr>\n    <tr>\n      <th>12541106</th>\n      <td>A91</td>\n      <td>LLL</td>\n      <td>2020-01-31 14:40:33</td>\n      <td>2020-01-31 14:41:04</td>\n      <td>31.0</td>\n      <td>(2020, 1)</td>\n    </tr>\n    <tr>\n      <th>12541107</th>\n      <td>A91</td>\n      <td>LLL</td>\n      <td>2020-01-31 14:42:00</td>\n      <td>2020-01-31 14:42:19</td>\n      <td>19.0</td>\n      <td>(2020, 1)</td>\n    </tr>\n    <tr>\n      <th>12541108</th>\n      <td>A91</td>\n      <td>LLL</td>\n      <td>2020-01-31 15:08:44</td>\n      <td>2020-01-31 15:09:07</td>\n      <td>23.0</td>\n      <td>(2020, 1)</td>\n    </tr>\n    <tr>\n      <th>12541109</th>\n      <td>A91</td>\n      <td>LLL</td>\n      <td>2020-01-31 15:55:10</td>\n      <td>2020-01-31 15:57:42</td>\n      <td>152.0</td>\n      <td>(2020, 1)</td>\n    </tr>\n    <tr>\n      <th>12541382</th>\n      <td>A51</td>\n      <td>MLO</td>\n      <td>2020-01-21 00:34:12</td>\n      <td>2020-01-21 00:38:52</td>\n      <td>280.0</td>\n      <td>(2020, 1)</td>\n    </tr>\n  </tbody>\n</table>\n<p>8575652 rows × 6 columns</p>\n</div>"
     },
     "metadata": {},
     "execution_count": 22
    }
   ],
   "source": [
    "\"\"\" \n",
    "    Filter the Alarm Data\n",
    "    1. Ignore the communication Alarms\n",
    "    2. Ignore the momentary alarms => 20 seconds\n",
    "    3. Remove Staling Alarms => 12 hours    \n",
    "    4. Remove sources which are triggered less 20 in whole dataset\n",
    "    5. Include all the months\n",
    "    6. DO SKIP ANY SOURCENAME IF IGNORING COMMUNICATION ALARMS\n",
    "\"\"\"\n",
    "ignore_comm_alarms = True\n",
    "momentary_alarms_f = None # seconds\n",
    "staling_alarm_f = None # hours\n",
    "min_alarms_per_source_f = 500 # any source which is not triggered atleast 20 times in whole dataset will be removed\n",
    "months_f = df_main_alarms[\"Year-Month\"].unique()\n",
    "snames_f = [] # ONLY USE IF NOT IGNORING COMM ALRMS\n",
    "\n",
    "df_alarms_new = filterAlarmData(df_main_alarms, months=months_f, sources_filter=snames_f,\n",
    "                                     monmentarly_filter=momentary_alarms_f, staling_filter=staling_alarm_f, ingore_communication_alarms=ignore_comm_alarms, min_alarms_per_source=min_alarms_per_source_f)\n",
    "\n",
    "\n",
    "df_alarms_new"
   ]
  },
  {
   "cell_type": "code",
   "execution_count": 23,
   "metadata": {},
   "outputs": [
    {
     "output_type": "stream",
     "name": "stdout",
     "text": [
      "124\n"
     ]
    }
   ],
   "source": [
    "source2count = dict(df_alarms_new[\"SourceName\"].value_counts())\n",
    "print(len(source2count))"
   ]
  },
  {
   "cell_type": "code",
   "execution_count": 24,
   "metadata": {},
   "outputs": [
    {
     "output_type": "execute_result",
     "data": {
      "text/plain": [
       "       SourceName Condition           StartTime             EndTime  \\\n",
       "0              A0      VEL- 2019-04-26 18:51:22 2019-04-26 18:51:29   \n",
       "1              A0      VEL- 2019-04-26 18:54:31 2019-04-26 18:54:33   \n",
       "2              A0      VEL- 2019-04-26 18:57:36 2019-04-26 18:57:37   \n",
       "3              A0      VEL- 2019-04-26 19:00:37 2019-04-26 19:00:38   \n",
       "4              A0      VEL- 2019-04-26 19:03:48 2019-04-26 19:03:49   \n",
       "...           ...       ...                 ...                 ...   \n",
       "559848      A2478       ALM 2019-12-07 08:45:57 2019-12-07 08:46:41   \n",
       "559849      A2478       ALM 2019-12-07 08:49:36 2019-12-07 08:49:38   \n",
       "559850      A2478       ALM 2019-12-07 11:40:58 2019-12-07 11:40:59   \n",
       "559851      A2478       ALM 2019-12-07 12:52:26 2019-12-07 12:56:36   \n",
       "559852      A2478       ALM 2019-12-07 12:56:37 2019-12-07 12:57:01   \n",
       "\n",
       "        TimeDelta  Year-Month  \n",
       "0             7.0   (2019, 4)  \n",
       "1             2.0   (2019, 4)  \n",
       "2             1.0   (2019, 4)  \n",
       "3             1.0   (2019, 4)  \n",
       "4             1.0   (2019, 4)  \n",
       "...           ...         ...  \n",
       "559848       44.0  (2019, 12)  \n",
       "559849        2.0  (2019, 12)  \n",
       "559850        1.0  (2019, 12)  \n",
       "559851      250.0  (2019, 12)  \n",
       "559852       24.0  (2019, 12)  \n",
       "\n",
       "[559853 rows x 6 columns]"
      ],
      "text/html": "<div>\n<style scoped>\n    .dataframe tbody tr th:only-of-type {\n        vertical-align: middle;\n    }\n\n    .dataframe tbody tr th {\n        vertical-align: top;\n    }\n\n    .dataframe thead th {\n        text-align: right;\n    }\n</style>\n<table border=\"1\" class=\"dataframe\">\n  <thead>\n    <tr style=\"text-align: right;\">\n      <th></th>\n      <th>SourceName</th>\n      <th>Condition</th>\n      <th>StartTime</th>\n      <th>EndTime</th>\n      <th>TimeDelta</th>\n      <th>Year-Month</th>\n    </tr>\n  </thead>\n  <tbody>\n    <tr>\n      <th>0</th>\n      <td>A0</td>\n      <td>VEL-</td>\n      <td>2019-04-26 18:51:22</td>\n      <td>2019-04-26 18:51:29</td>\n      <td>7.0</td>\n      <td>(2019, 4)</td>\n    </tr>\n    <tr>\n      <th>1</th>\n      <td>A0</td>\n      <td>VEL-</td>\n      <td>2019-04-26 18:54:31</td>\n      <td>2019-04-26 18:54:33</td>\n      <td>2.0</td>\n      <td>(2019, 4)</td>\n    </tr>\n    <tr>\n      <th>2</th>\n      <td>A0</td>\n      <td>VEL-</td>\n      <td>2019-04-26 18:57:36</td>\n      <td>2019-04-26 18:57:37</td>\n      <td>1.0</td>\n      <td>(2019, 4)</td>\n    </tr>\n    <tr>\n      <th>3</th>\n      <td>A0</td>\n      <td>VEL-</td>\n      <td>2019-04-26 19:00:37</td>\n      <td>2019-04-26 19:00:38</td>\n      <td>1.0</td>\n      <td>(2019, 4)</td>\n    </tr>\n    <tr>\n      <th>4</th>\n      <td>A0</td>\n      <td>VEL-</td>\n      <td>2019-04-26 19:03:48</td>\n      <td>2019-04-26 19:03:49</td>\n      <td>1.0</td>\n      <td>(2019, 4)</td>\n    </tr>\n    <tr>\n      <th>...</th>\n      <td>...</td>\n      <td>...</td>\n      <td>...</td>\n      <td>...</td>\n      <td>...</td>\n      <td>...</td>\n    </tr>\n    <tr>\n      <th>559848</th>\n      <td>A2478</td>\n      <td>ALM</td>\n      <td>2019-12-07 08:45:57</td>\n      <td>2019-12-07 08:46:41</td>\n      <td>44.0</td>\n      <td>(2019, 12)</td>\n    </tr>\n    <tr>\n      <th>559849</th>\n      <td>A2478</td>\n      <td>ALM</td>\n      <td>2019-12-07 08:49:36</td>\n      <td>2019-12-07 08:49:38</td>\n      <td>2.0</td>\n      <td>(2019, 12)</td>\n    </tr>\n    <tr>\n      <th>559850</th>\n      <td>A2478</td>\n      <td>ALM</td>\n      <td>2019-12-07 11:40:58</td>\n      <td>2019-12-07 11:40:59</td>\n      <td>1.0</td>\n      <td>(2019, 12)</td>\n    </tr>\n    <tr>\n      <th>559851</th>\n      <td>A2478</td>\n      <td>ALM</td>\n      <td>2019-12-07 12:52:26</td>\n      <td>2019-12-07 12:56:36</td>\n      <td>250.0</td>\n      <td>(2019, 12)</td>\n    </tr>\n    <tr>\n      <th>559852</th>\n      <td>A2478</td>\n      <td>ALM</td>\n      <td>2019-12-07 12:56:37</td>\n      <td>2019-12-07 12:57:01</td>\n      <td>24.0</td>\n      <td>(2019, 12)</td>\n    </tr>\n  </tbody>\n</table>\n<p>559853 rows × 6 columns</p>\n</div>"
     },
     "metadata": {},
     "execution_count": 24
    }
   ],
   "source": [
    "df_rnn = removeChatteringAlarms(df_alarms_new,chattering_timedelta_threshold=60*3)\n",
    "df_rnn"
   ]
  },
  {
   "cell_type": "code",
   "execution_count": 28,
   "metadata": {},
   "outputs": [
    {
     "output_type": "stream",
     "name": "stdout",
     "text": [
      "{'A1': 135596, 'A0': 135210, 'A4': 57380, 'A727': 14471, 'A726': 13478, 'A42': 12542, 'A723': 12503, 'A725': 11648, 'A1471': 8868, 'A734': 8374, 'A733': 8372, 'A724': 8367, 'A9': 7940, 'A156': 6701, 'A43': 6582, 'A17': 6275, 'A6': 4838, 'A8': 4562, 'A243': 3819, 'A50': 3762, 'A59': 3548, 'A60': 3366, 'A64': 3038, 'A475': 2935, 'A1358': 2739, 'A15': 2252, 'A154': 2184, 'A77': 1991, 'A57': 1983, 'A75': 1973, 'A56': 1959, 'A99': 1947, 'A98': 1946, 'A40': 1698, 'A69': 1601, 'A89': 1542, 'A7': 1362, 'A138': 1341, 'A55': 1298, 'A49': 1206, 'A113': 1160, 'A18': 1143, 'A66': 1121, 'A1723': 1030, 'A165': 981, 'A67': 922, 'A730': 902, 'A729': 888, 'A27': 870, 'A760': 868, 'A229': 867, 'A29': 860, 'A74': 858, 'A19': 858, 'A36': 840, 'A114': 805, 'A1067': 803, 'A91': 776, 'A78': 773, 'A788': 767, 'A88': 764, 'A26': 752, 'A22': 738, 'A266': 737, 'A102': 711, 'A13': 710, 'A287': 703, 'A23': 701, 'A95': 698, 'A115': 692, 'A170': 682, 'A83': 678, 'A327': 661, 'A71': 649, 'A35': 644, 'A103': 644, 'A163': 639, 'A51': 629, 'A1675': 627, 'A265': 601, 'A1287': 573, 'A251': 572, 'A1493': 569, 'A250': 555, 'A754': 526, 'A146': 525, 'A198': 523, 'A222': 521, 'A1062': 521, 'A1061': 520, 'A1992': 518, 'A221': 516, 'A152': 511, 'A276': 507, 'A1666': 480, 'A402': 473, 'A780': 442, 'A24': 438, 'A21': 428, 'A1625': 394, 'A1676': 368, 'A736': 355, 'A48': 335, 'A16': 335, 'A11': 333, 'A773': 325, 'A777': 309, 'A33': 287, 'A728': 251, 'A409': 245, 'A1781': 232, 'A1782': 232, 'A867': 186, 'A394': 129, 'A731': 125, 'A1458': 115, 'A854': 114, 'A2332': 90, 'A1989': 89, 'A2331': 86, 'A1988': 85, 'A2478': 84, 'A732': 44, 'A12': 38}\n"
     ]
    }
   ],
   "source": [
    "source2count = dict(df_rnn[\"SourceName\"].value_counts())\n",
    "print(source2count)"
   ]
  },
  {
   "cell_type": "code",
   "execution_count": 31,
   "metadata": {},
   "outputs": [
    {
     "output_type": "stream",
     "name": "stdout",
     "text": [
      "{'A727': 14471, 'A726': 13478, 'A42': 12542, 'A723': 12503, 'A725': 11648, 'A1471': 8868, 'A734': 8374, 'A733': 8372, 'A724': 8367, 'A9': 7940, 'A156': 6701, 'A43': 6582, 'A17': 6275, 'A6': 4838, 'A8': 4562, 'A243': 3819, 'A50': 3762, 'A59': 3548, 'A60': 3366, 'A64': 3038, 'A475': 2935, 'A1358': 2739, 'A15': 2252, 'A154': 2184, 'A77': 1991, 'A57': 1983, 'A75': 1973, 'A56': 1959, 'A99': 1947, 'A98': 1946, 'A40': 1698, 'A69': 1601, 'A89': 1542, 'A7': 1362, 'A138': 1341, 'A55': 1298, 'A49': 1206, 'A113': 1160, 'A18': 1143, 'A66': 1121, 'A1723': 1030, 'A165': 981, 'A67': 922, 'A730': 902, 'A729': 888, 'A27': 870, 'A760': 868, 'A229': 867, 'A29': 860, 'A74': 858, 'A19': 858, 'A36': 840, 'A114': 805, 'A1067': 803, 'A91': 776, 'A78': 773, 'A788': 767, 'A88': 764, 'A26': 752, 'A22': 738, 'A266': 737, 'A102': 711, 'A13': 710, 'A287': 703, 'A23': 701, 'A95': 698, 'A115': 692, 'A170': 682, 'A83': 678, 'A327': 661, 'A71': 649, 'A35': 644, 'A103': 644, 'A163': 639, 'A51': 629, 'A1675': 627, 'A265': 601, 'A1287': 573, 'A251': 572, 'A1493': 569, 'A250': 555, 'A754': 526, 'A146': 525, 'A198': 523, 'A222': 521, 'A1062': 521, 'A1061': 520, 'A1992': 518, 'A221': 516, 'A152': 511, 'A276': 507, 'A1666': 480, 'A402': 473, 'A780': 442, 'A24': 438, 'A21': 428, 'A1625': 394, 'A1676': 368, 'A736': 355, 'A16': 335, 'A48': 335, 'A11': 333, 'A773': 325, 'A777': 309, 'A33': 287, 'A728': 251, 'A409': 245, 'A1782': 232, 'A1781': 232, 'A867': 186, 'A394': 129, 'A731': 125, 'A1458': 115, 'A854': 114, 'A2332': 90, 'A1989': 89, 'A2331': 86, 'A1988': 85, 'A2478': 84, 'A732': 44, 'A12': 38}\n"
     ]
    }
   ],
   "source": [
    "df_rnn = (lambda df, sources_filter: df[(~df[\"SourceName\"].isin(sources_filter))])(df_rnn, ['A1','A0','A4'])\n",
    "source2count = dict(df_rnn[\"SourceName\"].value_counts())\n",
    "print(source2count)"
   ]
  },
  {
   "cell_type": "code",
   "execution_count": 42,
   "metadata": {},
   "outputs": [
    {
     "output_type": "stream",
     "name": "stdout",
     "text": [
      ">> Duration to next seq: 900, ignore seq len: 5\n",
      "18724\n",
      "[['A17', 'A75', 'A17', 'A57', 'A17', 'A98', 'A99', 'A56'], ['A50', 'A59', 'A60', 'A64', 'A726', 'A9', 'A725', 'A726', 'A726', 'A243', 'A725']]\n"
     ]
    }
   ],
   "source": [
    "duration_from_1_seq_to_next = 60*15 # duration in seconds\n",
    "filter_short_seq = 5 # remove the sequence whose size is less than 4\n",
    "li_of_seqs,max_seq_len = getSequenceOfWholeData(df_rnn,duration_from_1_seq_to_next,filter_short_seq)\n",
    "print(len(li_of_seqs))\n",
    "print(li_of_seqs[:2])"
   ]
  },
  {
   "cell_type": "code",
   "execution_count": 43,
   "metadata": {},
   "outputs": [
    {
     "output_type": "stream",
     "name": "stdout",
     "text": [
      "['A37', 'A10', 'A28', 'A10', 'A48', 'A49', 'A28']\n"
     ]
    },
    {
     "output_type": "execute_result",
     "data": {
      "text/plain": [
       "{71: 1,\n",
       " 68: 1,\n",
       " 70: 1,\n",
       " 60: 1,\n",
       " 55: 1,\n",
       " 45: 1,\n",
       " 57: 1,\n",
       " 44: 1,\n",
       " 38: 1,\n",
       " 42: 2,\n",
       " 54: 2,\n",
       " 58: 3,\n",
       " 46: 3,\n",
       " 49: 3,\n",
       " 51: 3,\n",
       " 47: 3,\n",
       " 48: 3,\n",
       " 40: 4,\n",
       " 50: 4,\n",
       " 53: 5,\n",
       " 52: 6,\n",
       " 36: 7,\n",
       " 39: 7,\n",
       " 37: 11,\n",
       " 35: 12,\n",
       " 34: 14,\n",
       " 33: 21,\n",
       " 32: 30,\n",
       " 31: 37,\n",
       " 30: 45,\n",
       " 29: 63,\n",
       " 28: 86,\n",
       " 27: 114,\n",
       " 26: 117,\n",
       " 25: 190,\n",
       " 24: 196,\n",
       " 23: 263,\n",
       " 22: 305,\n",
       " 21: 337,\n",
       " 19: 341,\n",
       " 20: 382,\n",
       " 17: 407,\n",
       " 18: 421,\n",
       " 16: 482,\n",
       " 15: 562,\n",
       " 14: 639,\n",
       " 13: 738,\n",
       " 12: 875,\n",
       " 11: 1095,\n",
       " 10: 1289,\n",
       " 9: 1446,\n",
       " 8: 1732,\n",
       " 5: 1951,\n",
       " 7: 2179,\n",
       " 6: 2280}"
      ]
     },
     "metadata": {},
     "execution_count": 43
    }
   ],
   "source": [
    "def removeSameAlarms(seq):\n",
    "    new_seq = []\n",
    "\n",
    "    new_seq.append(seq[0])\n",
    "\n",
    "    for a in seq:\n",
    "\n",
    "        if a == new_seq[-1]:\n",
    "            continue\n",
    "        new_seq.append(a)\n",
    "    \n",
    "    return new_seq\n",
    "\n",
    "print(removeSameAlarms(['A37', 'A10', 'A28', 'A10', 'A10', 'A48', 'A49', 'A28']))\n",
    "\n",
    "seq_len_2_count = {}\n",
    "\n",
    "with open(\"/home/waris/Github/predict-future-alarms/.data/seqs.tokens\",\"w\") as f:\n",
    "    for seq in li_of_seqs:\n",
    "        # seq = removeSameAlarms(seq)\n",
    "        l = len(seq)\n",
    "        seq_len_2_count[l] = 1+seq_len_2_count.get(l,0)\n",
    "        \n",
    "        if l >filter_short_seq:\n",
    "            f.write(f\"{' '.join(seq)}\\n\")\n",
    "\n",
    "seq_len_2_count = {k:v for k,v in sorted(seq_len_2_count.items(), key=lambda t: t[1] )}\n",
    "seq_len_2_count"
   ]
  },
  {
   "cell_type": "code",
   "execution_count": 57,
   "metadata": {},
   "outputs": [
    {
     "output_type": "execute_result",
     "data": {
      "text/plain": [
       "{22: 305,\n",
       " 21: 337,\n",
       " 19: 341,\n",
       " 20: 382,\n",
       " 17: 407,\n",
       " 18: 421,\n",
       " 16: 482,\n",
       " 15: 562,\n",
       " 14: 639,\n",
       " 13: 738,\n",
       " 12: 875,\n",
       " 11: 1095,\n",
       " 10: 1289,\n",
       " 9: 1446,\n",
       " 8: 1732,\n",
       " 5: 1951,\n",
       " 7: 2179,\n",
       " 6: 2280}"
      ]
     },
     "metadata": {},
     "execution_count": 57
    }
   ],
   "source": [
    "seq_len_2_count = {}\n",
    "avg_seq_len = 14\n",
    "ignore_seq_len = 22\n",
    "with open(\"/home/waris/Github/predict-future-alarms/.data/seqs.tokens\",\"w\") as f:\n",
    "    for seq in li_of_seqs:\n",
    "        # seq = removeSameAlarms(seq)\n",
    "        l = len(seq)\n",
    "        # print(seq)\n",
    "        # break\n",
    "        \n",
    "        if l <=ignore_seq_len:\n",
    "            seq_len_2_count[l] = 1+seq_len_2_count.get(l,0)\n",
    "            if l<avg_seq_len:\n",
    "                seq = (avg_seq_len-l)*['<pad>'] + seq\n",
    "            elif l>avg_seq_len:\n",
    "                seq = seq[:avg_seq_len]\n",
    "\n",
    "            f.write(f\"{' '.join(seq)}\\n\")\n",
    "\n",
    "seq_len_2_count = {k:v for k,v in sorted(seq_len_2_count.items(), key=lambda t: t[1] )}\n",
    "seq_len_2_count"
   ]
  },
  {
   "cell_type": "code",
   "execution_count": 52,
   "metadata": {},
   "outputs": [
    {
     "output_type": "execute_result",
     "data": {
      "text/plain": [
       "13.5"
      ]
     },
     "metadata": {},
     "execution_count": 52
    }
   ],
   "source": [
    "sum(seq_len_2_count.keys())/len(seq_len_2_count.keys())"
   ]
  },
  {
   "cell_type": "code",
   "execution_count": 54,
   "metadata": {},
   "outputs": [],
   "source": [
    "l = 5*['5']"
   ]
  },
  {
   "cell_type": "code",
   "execution_count": 55,
   "metadata": {},
   "outputs": [
    {
     "output_type": "execute_result",
     "data": {
      "text/plain": [
       "['5', '5', '5', '5', '5']"
      ]
     },
     "metadata": {},
     "execution_count": 55
    }
   ],
   "source": [
    "l"
   ]
  },
  {
   "cell_type": "code",
   "execution_count": null,
   "metadata": {},
   "outputs": [],
   "source": []
  }
 ]
}