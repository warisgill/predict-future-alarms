{
 "metadata": {
  "language_info": {
   "codemirror_mode": {
    "name": "ipython",
    "version": 3
   },
   "file_extension": ".py",
   "mimetype": "text/x-python",
   "name": "python",
   "nbconvert_exporter": "python",
   "pygments_lexer": "ipython3",
   "version": "3.8.5-final"
  },
  "orig_nbformat": 2,
  "kernelspec": {
   "name": "python3",
   "display_name": "Python 3.8.5 64-bit ('dl': conda)",
   "metadata": {
    "interpreter": {
     "hash": "8076afad8c2f739e22f417bad77704dbad7b0389c4d6903b1ae4a1b7479f7ed3"
    }
   }
  }
 },
 "nbformat": 4,
 "nbformat_minor": 2,
 "cells": [
  {
   "cell_type": "code",
   "execution_count": 1,
   "metadata": {},
   "outputs": [],
   "source": [
    "from datetime import timedelta\n",
    "import time\n",
    "import numpy as np\n",
    "from functools import partial\n",
    "from sklearn.model_selection import train_test_split\n",
    "import itertools\n",
    "import pickle\n",
    "import pandas as pd"
   ]
  },
  {
   "cell_type": "code",
   "execution_count": 2,
   "metadata": {},
   "outputs": [],
   "source": [
    "def filterAlarmData(df, months=None, sources_filter=[], monmentarly_filter=None, staling_filter=None ,ingore_communication_alarms=False, min_alarms_per_source=10):\n",
    "\n",
    "    print(f\">>Preprocessing... \\n   Months to include={months}\\n  Ignore Sources={sources_filter}\\n  Ingnore Momentarlily Alarms Filter={monmentarly_filter}seconds \\n   Ignoreing Staling Alarms Filter={staling_filter} seconds, \\n Ignore Communication Alarms = {ingore_communication_alarms} \\n Remove sources whose count is less than {min_alarms_per_source}\")\n",
    "    \n",
    "    \n",
    "    if months is None:\n",
    "        months = df[\"Year-Month\"].unique()\n",
    "\n",
    "    if monmentarly_filter is not None: \n",
    "        df = df[(df[\"TimeDelta\"] > monmentarly_filter)]\n",
    "\n",
    "    if staling_filter is not None:\n",
    "        df =  df[(df[\"TimeDelta\"] < staling_filter)]\n",
    "\n",
    "    if ingore_communication_alarms==True:\n",
    "        df = df[~df[\"Condition\"].isin([\"IOP\", \"IOP-\"])]\n",
    "    \n",
    "    df =  df[(df[\"Year-Month\"].isin(months))]\n",
    "    df = df[(~df[\"SourceName\"].isin(sources_filter))]\n",
    "\n",
    "    source2count = dict(df[\"SourceName\"].value_counts())\n",
    "    select_sources = [k for k, v in source2count.items() if v >= min_alarms_per_source]\n",
    "    df = df[df[\"SourceName\"].isin(select_sources)]\n",
    "\n",
    "    return df\n",
    "\n",
    "def _concatenateSourceNameAndCondition(sname, condition):\n",
    "    return sname+\"-\"+condition\n",
    "\n",
    "\n",
    "def updatSourceNamewithCondition(df):\n",
    "    df[\"SourceName\"] = df[[\"SourceName\", \"Condition\"]].apply(\n",
    "        lambda arg: _concatenateSourceNameAndCondition(*arg), axis=1)\n",
    "    return df\n",
    "\n",
    "def convertSourceNamesToAlias(df):\n",
    "    alias2name = {f\"A{k}\": v for k, v in enumerate(df[\"SourceName\"].unique())}\n",
    "    name2alias = {v: k for k, v in alias2name.items()}\n",
    "    df[\"SourceName\"] = df[\"SourceName\"].apply(lambda sname: name2alias[sname])\n",
    "    return name2alias, alias2name\n",
    "\n",
    "def __removeChatteringAlarmsHelper(alarms, chattering_timedelta_threshold=60.0, chattering_count_threshold=2):\n",
    "    \"\"\"Find the chatterings in an alarms list from the same source.  \n",
    "    \"\"\"\n",
    "\n",
    "    alarms_without_chattering = []\n",
    "    alarms = [alarm for alarm in sorted(alarms, key=lambda arg: arg[\"StartTime\"], reverse=False)]\n",
    "    i = 0\n",
    "    j = 0\n",
    "\n",
    "    while i < (len(alarms)):\n",
    "        alarms_without_chattering.append(alarms[i])\n",
    "        prev_start = alarms[i][\"StartTime\"]\n",
    "        prev_end = alarms[i][\"EndTime\"]\n",
    "        count_alarms = 0\n",
    "        j = i + 1\n",
    "        while j < len(alarms):\n",
    "            next_start = alarms[j][\"StartTime\"]\n",
    "            next_end = alarms[j][\"EndTime\"]\n",
    "\n",
    "            # this assert is very important: the prev alarm has to turn off before the start of\n",
    "            # the next one\n",
    "            assert(prev_start <= next_start)\n",
    "            assert(prev_end <= next_start)\n",
    "            assert(prev_end <= next_end)\n",
    "\n",
    "            delta = timedelta.total_seconds(next_start - prev_start)\n",
    "            assert (delta >= 0)\n",
    "            \n",
    "            if delta > chattering_timedelta_threshold:\n",
    "                break\n",
    "            count_alarms += 1\n",
    "            \n",
    "            j += 1\n",
    "        \n",
    "        if count_alarms >= chattering_count_threshold:\n",
    "            i = j\n",
    "        else:\n",
    "            i += 1\n",
    "\n",
    "    return alarms_without_chattering\n",
    "\n",
    "def removeChatteringAlarms(df,chattering_timedelta_threshold=120):\n",
    "    alarms_without_chatterings = []\n",
    "    for sname in df[\"SourceName\"].unique():\n",
    "        df_source = df.loc[df['SourceName'].isin([sname])]\n",
    "\n",
    "        for condition in df_source[\"Condition\"].unique():\n",
    "            df_condition = df_source.loc[df_source['Condition'].isin([condition])]\n",
    "            alarms = __removeChatteringAlarmsHelper(df_condition.to_dict(orient=\"records\"),chattering_timedelta_threshold=chattering_timedelta_threshold)\n",
    "            alarms_without_chatterings = alarms_without_chatterings + alarms\n",
    "\n",
    "    return pd.DataFrame(alarms_without_chatterings)\n",
    "\n",
    "def loadAlarmsData(file_path):\n",
    "    df = pd.read_csv(file_path, low_memory=False, usecols=[\"SourceName\", \"Condition\", \"StartTime\",\"EndTime\",\"TimeDelta\",\"Year-Month\"],parse_dates=[\"StartTime\", \"EndTime\"])\n",
    "    return df\n",
    "\n",
    "def getDFWithCommonSourcesInAllMonths(df):\n",
    "    each_month_source_names = [[sname for sname in df[df[\"Year-Month\"]==month][\"SourceName\"].unique()] for month in df[\"Year-Month\"].unique()]\n",
    "    common_sourcenames_in_all_months = set.intersection(*[set(l) for l in each_month_source_names])\n",
    "    df = df[df[\"SourceName\"].isin(common_sourcenames_in_all_months)]\n",
    "    return df\n",
    "\n",
    "def getSequenceOfWholeData(df,seq_duration_gap,filter_short_seq):\n",
    "    print(f\">> Duration to next seq: {seq_duration_gap}, ignore seq len: {filter_short_seq}\")\n",
    "\n",
    "    list_of_sequences = []    \n",
    "    alarms= df.to_dict(orient=\"records\")\n",
    "    alarms = [alarm for alarm in sorted(alarms, key=lambda arg: arg[\"StartTime\"], reverse=False)] # sorting\n",
    "    i =0\n",
    "    j= 0\n",
    "\n",
    "    max_seq_len = -1\n",
    "    while i <len(alarms):\n",
    "        prev_start = alarms[i][\"StartTime\"]\n",
    "        seq = []\n",
    "        seq.append(alarms[i])\n",
    "        j = i+1\n",
    "        while j < len(alarms):    \n",
    "            next_start = alarms[j][\"StartTime\"]\n",
    "            delta = timedelta.total_seconds(next_start - prev_start)\n",
    "            # print(delta)\n",
    "            assert delta >= 0\n",
    "            if delta >= seq_duration_gap:\n",
    "                break\n",
    "\n",
    "            seq.append(alarms[j])\n",
    "            j += 1\n",
    "        i = j\n",
    "\n",
    "        if len(seq) > max_seq_len:\n",
    "            max_seq_len = len(seq)\n",
    "        \n",
    "        if len(seq)>=filter_short_seq:\n",
    "            seq = [alarm for alarm in sorted(seq, key=lambda arg: arg[\"StartTime\"], reverse=False)]\n",
    "            seq = [alarm[\"SourceName\"] for alarm in seq]\n",
    "            list_of_sequences.append(seq)\n",
    "    \n",
    "    \n",
    "    return list_of_sequences, max_seq_len\n"
   ]
  },
  {
   "cell_type": "code",
   "execution_count": 3,
   "metadata": {},
   "outputs": [
    {
     "output_type": "stream",
     "name": "stdout",
     "text": [
      "Total Time to load the data  103.26020193099976\n"
     ]
    },
    {
     "output_type": "execute_result",
     "data": {
      "text/plain": [
       "                 SourceName Condition           StartTime             EndTime  \\\n",
       "0            48TIC2026-VEL-      VEL- 2020-03-01 00:00:03 2020-03-01 00:00:05   \n",
       "1            48TIC2026-VEL-      VEL- 2020-03-01 00:00:07 2020-03-01 00:00:08   \n",
       "2            48TIC2026-VEL-      VEL- 2020-03-01 00:00:10 2020-03-01 00:00:11   \n",
       "3            48TIC2026-VEL-      VEL- 2020-03-01 00:00:18 2020-03-01 00:00:20   \n",
       "4            48TIC2026-VEL-      VEL- 2020-03-01 00:00:22 2020-03-01 00:00:23   \n",
       "...                     ...       ...                 ...                 ...   \n",
       "12541434      47PI1517B-LLL       LLL 2020-01-09 02:54:19 2020-01-09 02:58:34   \n",
       "12541435        47PI2018-LO        LO 2020-01-31 15:15:28 2020-01-31 15:52:16   \n",
       "12541436        47FI2030-HI        HI 2020-01-24 15:22:23 2020-01-24 15:25:16   \n",
       "12541437  47XL3503B-ANN-ALM       ALM 2020-01-29 09:18:04 2020-01-29 09:19:29   \n",
       "12541438        47TI1538-LO        LO 2020-01-09 03:03:37 2020-01-09 03:17:07   \n",
       "\n",
       "          TimeDelta Year-Month  \n",
       "0               2.0  (2020, 3)  \n",
       "1               1.0  (2020, 3)  \n",
       "2               1.0  (2020, 3)  \n",
       "3               2.0  (2020, 3)  \n",
       "4               1.0  (2020, 3)  \n",
       "...             ...        ...  \n",
       "12541434      255.0  (2020, 1)  \n",
       "12541435     2208.0  (2020, 1)  \n",
       "12541436      173.0  (2020, 1)  \n",
       "12541437       85.0  (2020, 1)  \n",
       "12541438      810.0  (2020, 1)  \n",
       "\n",
       "[12541439 rows x 6 columns]"
      ],
      "text/html": "<div>\n<style scoped>\n    .dataframe tbody tr th:only-of-type {\n        vertical-align: middle;\n    }\n\n    .dataframe tbody tr th {\n        vertical-align: top;\n    }\n\n    .dataframe thead th {\n        text-align: right;\n    }\n</style>\n<table border=\"1\" class=\"dataframe\">\n  <thead>\n    <tr style=\"text-align: right;\">\n      <th></th>\n      <th>SourceName</th>\n      <th>Condition</th>\n      <th>StartTime</th>\n      <th>EndTime</th>\n      <th>TimeDelta</th>\n      <th>Year-Month</th>\n    </tr>\n  </thead>\n  <tbody>\n    <tr>\n      <th>0</th>\n      <td>48TIC2026-VEL-</td>\n      <td>VEL-</td>\n      <td>2020-03-01 00:00:03</td>\n      <td>2020-03-01 00:00:05</td>\n      <td>2.0</td>\n      <td>(2020, 3)</td>\n    </tr>\n    <tr>\n      <th>1</th>\n      <td>48TIC2026-VEL-</td>\n      <td>VEL-</td>\n      <td>2020-03-01 00:00:07</td>\n      <td>2020-03-01 00:00:08</td>\n      <td>1.0</td>\n      <td>(2020, 3)</td>\n    </tr>\n    <tr>\n      <th>2</th>\n      <td>48TIC2026-VEL-</td>\n      <td>VEL-</td>\n      <td>2020-03-01 00:00:10</td>\n      <td>2020-03-01 00:00:11</td>\n      <td>1.0</td>\n      <td>(2020, 3)</td>\n    </tr>\n    <tr>\n      <th>3</th>\n      <td>48TIC2026-VEL-</td>\n      <td>VEL-</td>\n      <td>2020-03-01 00:00:18</td>\n      <td>2020-03-01 00:00:20</td>\n      <td>2.0</td>\n      <td>(2020, 3)</td>\n    </tr>\n    <tr>\n      <th>4</th>\n      <td>48TIC2026-VEL-</td>\n      <td>VEL-</td>\n      <td>2020-03-01 00:00:22</td>\n      <td>2020-03-01 00:00:23</td>\n      <td>1.0</td>\n      <td>(2020, 3)</td>\n    </tr>\n    <tr>\n      <th>...</th>\n      <td>...</td>\n      <td>...</td>\n      <td>...</td>\n      <td>...</td>\n      <td>...</td>\n      <td>...</td>\n    </tr>\n    <tr>\n      <th>12541434</th>\n      <td>47PI1517B-LLL</td>\n      <td>LLL</td>\n      <td>2020-01-09 02:54:19</td>\n      <td>2020-01-09 02:58:34</td>\n      <td>255.0</td>\n      <td>(2020, 1)</td>\n    </tr>\n    <tr>\n      <th>12541435</th>\n      <td>47PI2018-LO</td>\n      <td>LO</td>\n      <td>2020-01-31 15:15:28</td>\n      <td>2020-01-31 15:52:16</td>\n      <td>2208.0</td>\n      <td>(2020, 1)</td>\n    </tr>\n    <tr>\n      <th>12541436</th>\n      <td>47FI2030-HI</td>\n      <td>HI</td>\n      <td>2020-01-24 15:22:23</td>\n      <td>2020-01-24 15:25:16</td>\n      <td>173.0</td>\n      <td>(2020, 1)</td>\n    </tr>\n    <tr>\n      <th>12541437</th>\n      <td>47XL3503B-ANN-ALM</td>\n      <td>ALM</td>\n      <td>2020-01-29 09:18:04</td>\n      <td>2020-01-29 09:19:29</td>\n      <td>85.0</td>\n      <td>(2020, 1)</td>\n    </tr>\n    <tr>\n      <th>12541438</th>\n      <td>47TI1538-LO</td>\n      <td>LO</td>\n      <td>2020-01-09 03:03:37</td>\n      <td>2020-01-09 03:17:07</td>\n      <td>810.0</td>\n      <td>(2020, 1)</td>\n    </tr>\n  </tbody>\n</table>\n<p>12541439 rows × 6 columns</p>\n</div>"
     },
     "metadata": {},
     "execution_count": 3
    }
   ],
   "source": [
    "\"\"\"  Lodading the Data and Preprocessing \"\"\"\n",
    "start = time.time()\n",
    "\n",
    "df_main_alarms =loadAlarmsData(file_path=\"/home/waris/Github/predict-future-alarms/.data/final-all-months-alarms.csv\")\n",
    "df_main_alarms = updatSourceNamewithCondition(df_main_alarms)\n",
    "print(\"Total Time to load the data \", time.time()-start)\n",
    "\n",
    "df_main_alarms"
   ]
  },
  {
   "cell_type": "code",
   "execution_count": 4,
   "metadata": {},
   "outputs": [
    {
     "output_type": "execute_result",
     "data": {
      "text/plain": [
       "         SourceName Condition           StartTime             EndTime  \\\n",
       "0                A0      VEL- 2020-03-01 00:00:03 2020-03-01 00:00:05   \n",
       "1                A0      VEL- 2020-03-01 00:00:07 2020-03-01 00:00:08   \n",
       "2                A0      VEL- 2020-03-01 00:00:10 2020-03-01 00:00:11   \n",
       "3                A0      VEL- 2020-03-01 00:00:18 2020-03-01 00:00:20   \n",
       "4                A0      VEL- 2020-03-01 00:00:22 2020-03-01 00:00:23   \n",
       "...             ...       ...                 ...                 ...   \n",
       "12541434      A2260       LLL 2020-01-09 02:54:19 2020-01-09 02:58:34   \n",
       "12541435       A565        LO 2020-01-31 15:15:28 2020-01-31 15:52:16   \n",
       "12541436       A807        HI 2020-01-24 15:22:23 2020-01-24 15:25:16   \n",
       "12541437      A1001       ALM 2020-01-29 09:18:04 2020-01-29 09:19:29   \n",
       "12541438      A1924        LO 2020-01-09 03:03:37 2020-01-09 03:17:07   \n",
       "\n",
       "          TimeDelta Year-Month  \n",
       "0               2.0  (2020, 3)  \n",
       "1               1.0  (2020, 3)  \n",
       "2               1.0  (2020, 3)  \n",
       "3               2.0  (2020, 3)  \n",
       "4               1.0  (2020, 3)  \n",
       "...             ...        ...  \n",
       "12541434      255.0  (2020, 1)  \n",
       "12541435     2208.0  (2020, 1)  \n",
       "12541436      173.0  (2020, 1)  \n",
       "12541437       85.0  (2020, 1)  \n",
       "12541438      810.0  (2020, 1)  \n",
       "\n",
       "[12541439 rows x 6 columns]"
      ],
      "text/html": "<div>\n<style scoped>\n    .dataframe tbody tr th:only-of-type {\n        vertical-align: middle;\n    }\n\n    .dataframe tbody tr th {\n        vertical-align: top;\n    }\n\n    .dataframe thead th {\n        text-align: right;\n    }\n</style>\n<table border=\"1\" class=\"dataframe\">\n  <thead>\n    <tr style=\"text-align: right;\">\n      <th></th>\n      <th>SourceName</th>\n      <th>Condition</th>\n      <th>StartTime</th>\n      <th>EndTime</th>\n      <th>TimeDelta</th>\n      <th>Year-Month</th>\n    </tr>\n  </thead>\n  <tbody>\n    <tr>\n      <th>0</th>\n      <td>A0</td>\n      <td>VEL-</td>\n      <td>2020-03-01 00:00:03</td>\n      <td>2020-03-01 00:00:05</td>\n      <td>2.0</td>\n      <td>(2020, 3)</td>\n    </tr>\n    <tr>\n      <th>1</th>\n      <td>A0</td>\n      <td>VEL-</td>\n      <td>2020-03-01 00:00:07</td>\n      <td>2020-03-01 00:00:08</td>\n      <td>1.0</td>\n      <td>(2020, 3)</td>\n    </tr>\n    <tr>\n      <th>2</th>\n      <td>A0</td>\n      <td>VEL-</td>\n      <td>2020-03-01 00:00:10</td>\n      <td>2020-03-01 00:00:11</td>\n      <td>1.0</td>\n      <td>(2020, 3)</td>\n    </tr>\n    <tr>\n      <th>3</th>\n      <td>A0</td>\n      <td>VEL-</td>\n      <td>2020-03-01 00:00:18</td>\n      <td>2020-03-01 00:00:20</td>\n      <td>2.0</td>\n      <td>(2020, 3)</td>\n    </tr>\n    <tr>\n      <th>4</th>\n      <td>A0</td>\n      <td>VEL-</td>\n      <td>2020-03-01 00:00:22</td>\n      <td>2020-03-01 00:00:23</td>\n      <td>1.0</td>\n      <td>(2020, 3)</td>\n    </tr>\n    <tr>\n      <th>...</th>\n      <td>...</td>\n      <td>...</td>\n      <td>...</td>\n      <td>...</td>\n      <td>...</td>\n      <td>...</td>\n    </tr>\n    <tr>\n      <th>12541434</th>\n      <td>A2260</td>\n      <td>LLL</td>\n      <td>2020-01-09 02:54:19</td>\n      <td>2020-01-09 02:58:34</td>\n      <td>255.0</td>\n      <td>(2020, 1)</td>\n    </tr>\n    <tr>\n      <th>12541435</th>\n      <td>A565</td>\n      <td>LO</td>\n      <td>2020-01-31 15:15:28</td>\n      <td>2020-01-31 15:52:16</td>\n      <td>2208.0</td>\n      <td>(2020, 1)</td>\n    </tr>\n    <tr>\n      <th>12541436</th>\n      <td>A807</td>\n      <td>HI</td>\n      <td>2020-01-24 15:22:23</td>\n      <td>2020-01-24 15:25:16</td>\n      <td>173.0</td>\n      <td>(2020, 1)</td>\n    </tr>\n    <tr>\n      <th>12541437</th>\n      <td>A1001</td>\n      <td>ALM</td>\n      <td>2020-01-29 09:18:04</td>\n      <td>2020-01-29 09:19:29</td>\n      <td>85.0</td>\n      <td>(2020, 1)</td>\n    </tr>\n    <tr>\n      <th>12541438</th>\n      <td>A1924</td>\n      <td>LO</td>\n      <td>2020-01-09 03:03:37</td>\n      <td>2020-01-09 03:17:07</td>\n      <td>810.0</td>\n      <td>(2020, 1)</td>\n    </tr>\n  </tbody>\n</table>\n<p>12541439 rows × 6 columns</p>\n</div>"
     },
     "metadata": {},
     "execution_count": 4
    }
   ],
   "source": [
    "# \"\"\" Chaning name 2 alias for alarm data but skipping it \"\"\"\n",
    "source2Alias, alias2source = convertSourceNamesToAlias(df_main_alarms)\n",
    "df_main_alarms"
   ]
  },
  {
   "cell_type": "code",
   "execution_count": 5,
   "metadata": {},
   "outputs": [
    {
     "output_type": "stream",
     "name": "stdout",
     "text": [
      ">>Preprocessing... \n   Months to include=['(2020, 3)' '(2019, 7)' '(2019, 8)' '(2019, 3)' '(2019, 10)' '(2019, 11)'\n '(2019, 9)' '(2020, 2)' '(2019, 5)' '(2019, 6)' '(2019, 12)' '(2019, 4)'\n '(2020, 1)']\n  Ignore Sources=[]\n  Ingnore Momentarlily Alarms Filter=Noneseconds \n   Ignoreing Staling Alarms Filter=None seconds, \n Ignore Communication Alarms = True \n Remove sources whose count is less than 10\n"
     ]
    },
    {
     "output_type": "execute_result",
     "data": {
      "text/plain": [
       "         SourceName Condition           StartTime             EndTime  \\\n",
       "0                A0      VEL- 2020-03-01 00:00:03 2020-03-01 00:00:05   \n",
       "1                A0      VEL- 2020-03-01 00:00:07 2020-03-01 00:00:08   \n",
       "2                A0      VEL- 2020-03-01 00:00:10 2020-03-01 00:00:11   \n",
       "3                A0      VEL- 2020-03-01 00:00:18 2020-03-01 00:00:20   \n",
       "4                A0      VEL- 2020-03-01 00:00:22 2020-03-01 00:00:23   \n",
       "...             ...       ...                 ...                 ...   \n",
       "12541432      A1863        LL 2020-01-09 02:53:46 2020-01-09 03:23:32   \n",
       "12541433       A530       LLL 2020-01-23 14:02:23 2020-01-23 14:02:24   \n",
       "12541435       A565        LO 2020-01-31 15:15:28 2020-01-31 15:52:16   \n",
       "12541436       A807        HI 2020-01-24 15:22:23 2020-01-24 15:25:16   \n",
       "12541437      A1001       ALM 2020-01-29 09:18:04 2020-01-29 09:19:29   \n",
       "\n",
       "          TimeDelta Year-Month  \n",
       "0               2.0  (2020, 3)  \n",
       "1               1.0  (2020, 3)  \n",
       "2               1.0  (2020, 3)  \n",
       "3               2.0  (2020, 3)  \n",
       "4               1.0  (2020, 3)  \n",
       "...             ...        ...  \n",
       "12541432     1786.0  (2020, 1)  \n",
       "12541433        1.0  (2020, 1)  \n",
       "12541435     2208.0  (2020, 1)  \n",
       "12541436      173.0  (2020, 1)  \n",
       "12541437       85.0  (2020, 1)  \n",
       "\n",
       "[8637831 rows x 6 columns]"
      ],
      "text/html": "<div>\n<style scoped>\n    .dataframe tbody tr th:only-of-type {\n        vertical-align: middle;\n    }\n\n    .dataframe tbody tr th {\n        vertical-align: top;\n    }\n\n    .dataframe thead th {\n        text-align: right;\n    }\n</style>\n<table border=\"1\" class=\"dataframe\">\n  <thead>\n    <tr style=\"text-align: right;\">\n      <th></th>\n      <th>SourceName</th>\n      <th>Condition</th>\n      <th>StartTime</th>\n      <th>EndTime</th>\n      <th>TimeDelta</th>\n      <th>Year-Month</th>\n    </tr>\n  </thead>\n  <tbody>\n    <tr>\n      <th>0</th>\n      <td>A0</td>\n      <td>VEL-</td>\n      <td>2020-03-01 00:00:03</td>\n      <td>2020-03-01 00:00:05</td>\n      <td>2.0</td>\n      <td>(2020, 3)</td>\n    </tr>\n    <tr>\n      <th>1</th>\n      <td>A0</td>\n      <td>VEL-</td>\n      <td>2020-03-01 00:00:07</td>\n      <td>2020-03-01 00:00:08</td>\n      <td>1.0</td>\n      <td>(2020, 3)</td>\n    </tr>\n    <tr>\n      <th>2</th>\n      <td>A0</td>\n      <td>VEL-</td>\n      <td>2020-03-01 00:00:10</td>\n      <td>2020-03-01 00:00:11</td>\n      <td>1.0</td>\n      <td>(2020, 3)</td>\n    </tr>\n    <tr>\n      <th>3</th>\n      <td>A0</td>\n      <td>VEL-</td>\n      <td>2020-03-01 00:00:18</td>\n      <td>2020-03-01 00:00:20</td>\n      <td>2.0</td>\n      <td>(2020, 3)</td>\n    </tr>\n    <tr>\n      <th>4</th>\n      <td>A0</td>\n      <td>VEL-</td>\n      <td>2020-03-01 00:00:22</td>\n      <td>2020-03-01 00:00:23</td>\n      <td>1.0</td>\n      <td>(2020, 3)</td>\n    </tr>\n    <tr>\n      <th>...</th>\n      <td>...</td>\n      <td>...</td>\n      <td>...</td>\n      <td>...</td>\n      <td>...</td>\n      <td>...</td>\n    </tr>\n    <tr>\n      <th>12541432</th>\n      <td>A1863</td>\n      <td>LL</td>\n      <td>2020-01-09 02:53:46</td>\n      <td>2020-01-09 03:23:32</td>\n      <td>1786.0</td>\n      <td>(2020, 1)</td>\n    </tr>\n    <tr>\n      <th>12541433</th>\n      <td>A530</td>\n      <td>LLL</td>\n      <td>2020-01-23 14:02:23</td>\n      <td>2020-01-23 14:02:24</td>\n      <td>1.0</td>\n      <td>(2020, 1)</td>\n    </tr>\n    <tr>\n      <th>12541435</th>\n      <td>A565</td>\n      <td>LO</td>\n      <td>2020-01-31 15:15:28</td>\n      <td>2020-01-31 15:52:16</td>\n      <td>2208.0</td>\n      <td>(2020, 1)</td>\n    </tr>\n    <tr>\n      <th>12541436</th>\n      <td>A807</td>\n      <td>HI</td>\n      <td>2020-01-24 15:22:23</td>\n      <td>2020-01-24 15:25:16</td>\n      <td>173.0</td>\n      <td>(2020, 1)</td>\n    </tr>\n    <tr>\n      <th>12541437</th>\n      <td>A1001</td>\n      <td>ALM</td>\n      <td>2020-01-29 09:18:04</td>\n      <td>2020-01-29 09:19:29</td>\n      <td>85.0</td>\n      <td>(2020, 1)</td>\n    </tr>\n  </tbody>\n</table>\n<p>8637831 rows × 6 columns</p>\n</div>"
     },
     "metadata": {},
     "execution_count": 5
    }
   ],
   "source": [
    "\"\"\" \n",
    "    Filter the Alarm Data\n",
    "    1. Ignore the communication Alarms\n",
    "    2. Ignore the momentary alarms => 20 seconds\n",
    "    3. Remove Staling Alarms => 12 hours    \n",
    "    4. Remove sources which are triggered less 20 in whole dataset\n",
    "    5. Include all the months\n",
    "    6. DO SKIP ANY SOURCENAME IF IGNORING COMMUNICATION ALARMS\n",
    "\"\"\"\n",
    "ignore_comm_alarms = True\n",
    "momentary_alarms_f = None # seconds\n",
    "staling_alarm_f = None # hours\n",
    "min_alarms_per_source_f = 10 # any source which is not triggered atleast 20 times in whole dataset will be removed\n",
    "months_f = df_main_alarms[\"Year-Month\"].unique()\n",
    "snames_f = [] # ONLY USE IF NOT IGNORING COMM ALRMS\n",
    "\n",
    "df_alarms_new = filterAlarmData(df_main_alarms, months=months_f, sources_filter=snames_f,\n",
    "                                     monmentarly_filter=momentary_alarms_f, staling_filter=staling_alarm_f, ingore_communication_alarms=ignore_comm_alarms, min_alarms_per_source=min_alarms_per_source_f)\n",
    "\n",
    "\n",
    "df_alarms_new"
   ]
  },
  {
   "cell_type": "code",
   "execution_count": 6,
   "metadata": {},
   "outputs": [],
   "source": [
    "# df_rnn = removeChatteringAlarms(df_alarms_new,chattering_timedelta_threshold=60*3)\n",
    "# df_rnn"
   ]
  },
  {
   "cell_type": "code",
   "execution_count": 7,
   "metadata": {},
   "outputs": [
    {
     "output_type": "stream",
     "name": "stdout",
     "text": [
      ">> Duration to next seq: 900, ignore seq len: 4\n",
      "31002\n",
      "[['A17', 'A17', 'A17', 'A17', 'A17', 'A17', 'A17', 'A17', 'A75', 'A17', 'A17', 'A17', 'A17', 'A17', 'A57', 'A17', 'A17', 'A17', 'A99', 'A98', 'A56'], ['A245', 'A246', 'A50', 'A243']]\n"
     ]
    }
   ],
   "source": [
    "duration_from_1_seq_to_next = 60*15 # duration in seconds\n",
    "filter_short_seq = 4 # remove the sequence whose size is less than 4\n",
    "li_of_seqs,max_seq_len = getSequenceOfWholeData(df_alarms_new,duration_from_1_seq_to_next,filter_short_seq)\n",
    "print(len(li_of_seqs))\n",
    "print(li_of_seqs[:2])"
   ]
  },
  {
   "cell_type": "code",
   "execution_count": 8,
   "metadata": {},
   "outputs": [
    {
     "output_type": "stream",
     "name": "stdout",
     "text": [
      "['A37', 'A10', 'A28', 'A10', 'A48', 'A49', 'A28']\n"
     ]
    }
   ],
   "source": [
    "def removeSameAlarms(seq):\n",
    "    new_seq = []\n",
    "\n",
    "    new_seq.append(seq[0])\n",
    "\n",
    "    for a in seq:\n",
    "\n",
    "        if a == new_seq[-1]:\n",
    "            continue\n",
    "        new_seq.append(a)\n",
    "    \n",
    "    return new_seq\n",
    "\n",
    "print(removeSameAlarms(['A37', 'A10', 'A28', 'A10', 'A10', 'A48', 'A49', 'A28']))\n",
    "\n",
    "\n",
    "\n",
    "with open(\"/home/waris/Github/predict-future-alarms/.data/seqs.tokens\",\"w\") as f:\n",
    "    for seq in li_of_seqs:\n",
    "        seq = removeSameAlarms(seq)\n",
    "        if len(seq)>3:\n",
    "            f.write(f\"{' '.join(seq)}\\n\")\n"
   ]
  },
  {
   "cell_type": "code",
   "execution_count": null,
   "metadata": {},
   "outputs": [],
   "source": []
  }
 ]
}