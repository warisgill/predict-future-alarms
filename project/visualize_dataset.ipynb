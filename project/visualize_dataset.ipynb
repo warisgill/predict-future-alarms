{
 "metadata": {
  "language_info": {
   "codemirror_mode": {
    "name": "ipython",
    "version": 3
   },
   "file_extension": ".py",
   "mimetype": "text/x-python",
   "name": "python",
   "nbconvert_exporter": "python",
   "pygments_lexer": "ipython3",
   "version": "3.7.6-final"
  },
  "orig_nbformat": 2,
  "kernelspec": {
   "name": "python3",
   "display_name": "Python 3",
   "language": "python"
  }
 },
 "nbformat": 4,
 "nbformat_minor": 2,
 "cells": [
  {
   "cell_type": "code",
   "execution_count": null,
   "metadata": {},
   "outputs": [],
   "source": []
  },
  {
   "cell_type": "code",
   "execution_count": 29,
   "metadata": {},
   "outputs": [
    {
     "output_type": "execute_result",
     "data": {
      "text/plain": [
       "30825"
      ]
     },
     "metadata": {},
     "execution_count": 29
    }
   ],
   "source": [
    "file_path = '../.data/seqs.tokens'\n",
    "from functools import reduce\n",
    "\n",
    "seqs = None\n",
    "seq_len_2_count = {}\n",
    "with open(file_path) as f:\n",
    "    seqs = f.readlines()\n",
    "len(seqs), seqs[0:4]\n",
    "a = seqs[0]\n",
    "for seq in seqs:\n",
    "    l = len(seq.split())\n",
    "    seq_len_2_count[l] = seq_len_2_count.get(l, 0) + 1\n",
    "# print(seq_len_2_count)\n",
    "\n",
    "a = [(k,v) for k, v in seq_len_2_count.items() if k<=300]\n",
    "# a = [(k,v) for k, v in seq_len_2_count.items()]\n",
    "# a= sorted(a,key=lambda t: t[0])\n",
    "# print(a)\n",
    "\n",
    "# reduce(func=lambda t1,t2: t1[1]+t2[1], a)\n",
    "sum([t[1] for t in a])"
   ]
  },
  {
   "cell_type": "code",
   "execution_count": null,
   "metadata": {},
   "outputs": [],
   "source": []
  }
 ]
}